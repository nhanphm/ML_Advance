{
  "nbformat": 4,
  "nbformat_minor": 0,
  "metadata": {
    "colab": {
      "name": "ToyExample(weight_and_height).ipynb",
      "provenance": [],
      "collapsed_sections": []
    },
    "kernelspec": {
      "name": "python3",
      "display_name": "Python 3"
    }
  },
  "cells": [
    {
      "cell_type": "code",
      "metadata": {
        "id": "7JLsxyMd-CWs",
        "colab_type": "code",
        "colab": {
          "base_uri": "https://localhost:8080/",
          "height": 34
        },
        "outputId": "0d3ff57e-d8b8-4743-f770-1ffe497f260e"
      },
      "source": [
        "import sklearn\n",
        "sklearn.__version__"
      ],
      "execution_count": 1,
      "outputs": [
        {
          "output_type": "execute_result",
          "data": {
            "text/plain": [
              "'0.22.2.post1'"
            ]
          },
          "metadata": {
            "tags": []
          },
          "execution_count": 1
        }
      ]
    },
    {
      "cell_type": "code",
      "metadata": {
        "id": "OmstypIt-uUx",
        "colab_type": "code",
        "colab": {
          "base_uri": "https://localhost:8080/",
          "height": 34
        },
        "outputId": "b524cabd-54d8-4ea9-8760-40bed1fea708"
      },
      "source": [
        "print(__doc__)\n",
        "import matplotlib.pyplot as plt\n",
        "\n",
        "import numpy as np\n",
        "from sklearn.svm import SVR"
      ],
      "execution_count": 19,
      "outputs": [
        {
          "output_type": "stream",
          "text": [
            "Automatically created module for IPython interactive environment\n"
          ],
          "name": "stdout"
        }
      ]
    },
    {
      "cell_type": "code",
      "metadata": {
        "id": "odD-fHYo_whH",
        "colab_type": "code",
        "colab": {
          "base_uri": "https://localhost:8080/",
          "height": 272
        },
        "outputId": "c92fc807-0418-4c3a-90e0-2aeee1230333"
      },
      "source": [
        "X = np.array([147,150,153,155,158,160,163,165,168,170,173,175,178,180,183]).reshape(-1,1)\n",
        "y = np.array([49,50,51,52,54,56,58,59,60,72,63,64,66,67,68]).reshape(-1,1)\n",
        "#print(X)"
      ],
      "execution_count": 16,
      "outputs": [
        {
          "output_type": "stream",
          "text": [
            "[[147]\n",
            " [150]\n",
            " [153]\n",
            " [155]\n",
            " [158]\n",
            " [160]\n",
            " [163]\n",
            " [165]\n",
            " [168]\n",
            " [170]\n",
            " [173]\n",
            " [175]\n",
            " [178]\n",
            " [180]\n",
            " [183]]\n"
          ],
          "name": "stdout"
        }
      ]
    },
    {
      "cell_type": "code",
      "metadata": {
        "id": "VEzyasOzDgMj",
        "colab_type": "code",
        "colab": {
          "base_uri": "https://localhost:8080/",
          "height": 221
        },
        "outputId": "d8c8f647-3dd6-44c9-eed0-0a0b298abdfe"
      },
      "source": [
        "svr_rbf = SVR(kernel='rbf', C=1e3, gamma=0.1)\n",
        "svr_lin = SVR(kernel='linear', C=1e3)\n",
        "svr_poly = SVR(kernel='poly', C=1e3, degree=2)\n",
        "y_rbf = svr_rbf.fit(X, y).predict(X)\n",
        "y_lin = svr_lin.fit(X, y).predict(X)\n",
        "y_poly = svr_poly.fit(X, y).predict(X)"
      ],
      "execution_count": 17,
      "outputs": [
        {
          "output_type": "stream",
          "text": [
            "/usr/local/lib/python3.6/dist-packages/sklearn/utils/validation.py:760: DataConversionWarning:\n",
            "\n",
            "A column-vector y was passed when a 1d array was expected. Please change the shape of y to (n_samples, ), for example using ravel().\n",
            "\n",
            "/usr/local/lib/python3.6/dist-packages/sklearn/utils/validation.py:760: DataConversionWarning:\n",
            "\n",
            "A column-vector y was passed when a 1d array was expected. Please change the shape of y to (n_samples, ), for example using ravel().\n",
            "\n",
            "/usr/local/lib/python3.6/dist-packages/sklearn/utils/validation.py:760: DataConversionWarning:\n",
            "\n",
            "A column-vector y was passed when a 1d array was expected. Please change the shape of y to (n_samples, ), for example using ravel().\n",
            "\n"
          ],
          "name": "stderr"
        }
      ]
    },
    {
      "cell_type": "code",
      "metadata": {
        "id": "9WwDYNIfFcXW",
        "colab_type": "code",
        "colab": {}
      },
      "source": [
        "def data_to_plotly(x):\n",
        "    k = []\n",
        "    \n",
        "    for i in range(0, len(x)):\n",
        "        k.append(x[i][0])\n",
        "        \n",
        "    return k"
      ],
      "execution_count": 0,
      "outputs": []
    },
    {
      "cell_type": "code",
      "metadata": {
        "id": "xGVyhoZ0Fd4c",
        "colab_type": "code",
        "colab": {
          "base_uri": "https://localhost:8080/",
          "height": 295
        },
        "outputId": "24556150-e62f-4584-ad92-0886721664b8"
      },
      "source": [
        "plt.plot(data_to_plotly(X),y,color='green', \n",
        "         marker='o', markerfacecolor='yellow', markersize=5, label=\"data\")\n",
        "plt.plot(data_to_plotly(X),y_rbf,color='navy', label=\"RBF model\")\n",
        "plt.plot(data_to_plotly(X),y_lin,color='cyan', label=\"Linear model\")\n",
        "plt.plot(data_to_plotly(X),y_poly,color='cornflowerblue', label=\"Polynomial model\")\n",
        "\n",
        "# naming the x axis \n",
        "plt.xlabel('x - Chieu cao') \n",
        "# naming the y axis \n",
        "plt.ylabel('y - Can nang') \n",
        "# giving a title to my graph \n",
        "plt.title('Support Vector Regression') \n",
        "  \n",
        "# show a legend on the plot \n",
        "plt.legend() \n",
        "  \n",
        "# function to show the plot \n",
        "plt.show() "
      ],
      "execution_count": 30,
      "outputs": [
        {
          "output_type": "display_data",
          "data": {
            "image/png": "[encoded data removed]",
            "text/plain": [
              "<Figure size 432x288 with 1 Axes>"
            ]
          },
          "metadata": {
            "tags": []
          }
        }
      ]
    }
  ]
}