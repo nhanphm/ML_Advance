{
  "nbformat": 4,
  "nbformat_minor": 0,
  "metadata": {
    "colab": {
      "name": "Naive Bayes_1",
      "provenance": [],
      "authorship_tag": "ABX9TyOmFswS/R+WZjsD3qFLmB50",
      "include_colab_link": true
    },
    "kernelspec": {
      "name": "python3",
      "display_name": "Python 3"
    }
  },
  "cells": [
    {
      "cell_type": "markdown",
      "metadata": {
        "id": "view-in-github",
        "colab_type": "text"
      },
      "source": [
        "<a href=\"https://colab.research.google.com/github/nhanphm/ML_Advance/blob/master/Naive_Bayes_1.ipynb\" target=\"_parent\"><img src=\"https://colab.research.google.com/assets/colab-badge.svg\" alt=\"Open In Colab\"/></a>"
      ]
    },
    {
      "cell_type": "code",
      "metadata": {
        "id": "UmZHON4fvxi5",
        "colab_type": "code",
        "colab": {
          "base_uri": "https://localhost:8080/",
          "height": 51
        },
        "outputId": "6c2b54fc-862e-47da-eb90-3c08d2cc49b7"
      },
      "source": [
        "import sklearn\n",
        "sklearn.__version__\n",
        "import matplotlib.pyplot as plt\n",
        "import seaborn as sns\n",
        "%matplotlib inline\n",
        "\n",
        "import numpy as np\n",
        "import pandas as pd"
      ],
      "execution_count": 1,
      "outputs": [
        {
          "output_type": "stream",
          "text": [
            "/usr/local/lib/python3.6/dist-packages/statsmodels/tools/_testing.py:19: FutureWarning: pandas.util.testing is deprecated. Use the functions in the public API at pandas.testing instead.\n",
            "  import pandas.util.testing as tm\n"
          ],
          "name": "stderr"
        }
      ]
    },
    {
      "cell_type": "code",
      "metadata": {
        "id": "TAml8Y4fw98n",
        "colab_type": "code",
        "colab": {}
      },
      "source": [
        "from sklearn.naive_bayes import GaussianNB\n",
        "from sklearn.metrics import accuracy_score"
      ],
      "execution_count": 0,
      "outputs": []
    },
    {
      "cell_type": "code",
      "metadata": {
        "id": "_gtpF_6Yw_-s",
        "colab_type": "code",
        "colab": {}
      },
      "source": [
        "# data  \n",
        "#heights = np.array([6.3, 5.9, 5.1, 5.6, 5.1])  \n",
        "#weights = np.array([50.2, 79.7, 61.4, 47.1, 59.8])  \n",
        "#classes = np.array([\"Male\", \"Female\", \"Female\" , \"Male\", \"Female\"])\n",
        "#Dữ liệu quá ít -> chuyển qua import csv (mượn từ kaggle)\n",
        "url = \"https://raw.githubusercontent.com/nhanphm/ML_Advance/master/weight-height.csv\"\n",
        "df1 = pd.read_csv(url)"
      ],
      "execution_count": 0,
      "outputs": []
    },
    {
      "cell_type": "code",
      "metadata": {
        "id": "Cb5dnJrx4Jk5",
        "colab_type": "code",
        "colab": {
          "base_uri": "https://localhost:8080/",
          "height": 255
        },
        "outputId": "33809338-c6be-4afa-ada7-95b71c4a25a1"
      },
      "source": [
        "df1.info"
      ],
      "execution_count": 22,
      "outputs": [
        {
          "output_type": "execute_result",
          "data": {
            "text/plain": [
              "<bound method DataFrame.info of       Gender     Height      Weight\n",
              "0       Male  73.847017  241.893563\n",
              "1       Male  68.781904  162.310473\n",
              "2       Male  74.110105  212.740856\n",
              "3       Male  71.730978  220.042470\n",
              "4       Male  69.881796  206.349801\n",
              "...      ...        ...         ...\n",
              "9995  Female  66.172652  136.777454\n",
              "9996  Female  67.067155  170.867906\n",
              "9997  Female  63.867992  128.475319\n",
              "9998  Female  69.034243  163.852461\n",
              "9999  Female  61.944246  113.649103\n",
              "\n",
              "[10000 rows x 3 columns]>"
            ]
          },
          "metadata": {
            "tags": []
          },
          "execution_count": 22
        }
      ]
    },
    {
      "cell_type": "code",
      "metadata": {
        "id": "PDjso_KrxgUt",
        "colab_type": "code",
        "colab": {
          "base_uri": "https://localhost:8080/",
          "height": 459
        },
        "outputId": "7be0843a-563b-4bdc-d31b-35e36c096eb0"
      },
      "source": [
        "X=df1.drop('Gender',axis=1)\n",
        "print(X)\n",
        "\n",
        "Y = df1[\"Gender\"]\n",
        "print(Y)"
      ],
      "execution_count": 23,
      "outputs": [
        {
          "output_type": "stream",
          "text": [
            "         Height      Weight\n",
            "0     73.847017  241.893563\n",
            "1     68.781904  162.310473\n",
            "2     74.110105  212.740856\n",
            "3     71.730978  220.042470\n",
            "4     69.881796  206.349801\n",
            "...         ...         ...\n",
            "9995  66.172652  136.777454\n",
            "9996  67.067155  170.867906\n",
            "9997  63.867992  128.475319\n",
            "9998  69.034243  163.852461\n",
            "9999  61.944246  113.649103\n",
            "\n",
            "[10000 rows x 2 columns]\n",
            "0         Male\n",
            "1         Male\n",
            "2         Male\n",
            "3         Male\n",
            "4         Male\n",
            "         ...  \n",
            "9995    Female\n",
            "9996    Female\n",
            "9997    Female\n",
            "9998    Female\n",
            "9999    Female\n",
            "Name: Gender, Length: 10000, dtype: object\n"
          ],
          "name": "stdout"
        }
      ]
    },
    {
      "cell_type": "code",
      "metadata": {
        "id": "H5PjGBY6znbX",
        "colab_type": "code",
        "colab": {
          "base_uri": "https://localhost:8080/",
          "height": 85
        },
        "outputId": "78edc210-c8a4-49c8-c19f-4dbd1a3087a4"
      },
      "source": [
        "from sklearn.model_selection import train_test_split\n",
        "X_train, X_test, Y_train, Y_test = train_test_split(X, Y, test_size=0.25, random_state=42)\n",
        "print(X_train.shape)\n",
        "print(X_test.shape)\n",
        "print(Y_train.shape)\n",
        "print(Y_test.shape)"
      ],
      "execution_count": 24,
      "outputs": [
        {
          "output_type": "stream",
          "text": [
            "(7500, 2)\n",
            "(2500, 2)\n",
            "(7500,)\n",
            "(2500,)\n"
          ],
          "name": "stdout"
        }
      ]
    },
    {
      "cell_type": "code",
      "metadata": {
        "id": "A_q3FiDEzz8F",
        "colab_type": "code",
        "colab": {}
      },
      "source": [
        "logmodel = GaussianNB()\n",
        "#logmodel.max_iter=2000\n",
        "logmodel.fit(X_train,Y_train)\n",
        "predictions = logmodel.predict(X_test)"
      ],
      "execution_count": 0,
      "outputs": []
    },
    {
      "cell_type": "code",
      "metadata": {
        "id": "yifz0Vtk1Cu3",
        "colab_type": "code",
        "colab": {
          "base_uri": "https://localhost:8080/",
          "height": 170
        },
        "outputId": "887ffd1b-efe8-4018-85bf-d3a8333a69b5"
      },
      "source": [
        "from sklearn.metrics import classification_report\n",
        "print(classification_report(Y_test,predictions))"
      ],
      "execution_count": 26,
      "outputs": [
        {
          "output_type": "stream",
          "text": [
            "              precision    recall  f1-score   support\n",
            "\n",
            "      Female       0.89      0.88      0.89      1228\n",
            "        Male       0.89      0.90      0.89      1272\n",
            "\n",
            "    accuracy                           0.89      2500\n",
            "   macro avg       0.89      0.89      0.89      2500\n",
            "weighted avg       0.89      0.89      0.89      2500\n",
            "\n"
          ],
          "name": "stdout"
        }
      ]
    }
  ]
}